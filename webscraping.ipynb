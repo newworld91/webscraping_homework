{
 "cells": [
  {
   "cell_type": "code",
   "execution_count": 1,
   "metadata": {
    "collapsed": false
   },
   "outputs": [
    {
     "name": "stdout",
     "output_type": "stream",
     "text": [
      "/usr/local/bin/chromedriver\r\n"
     ]
    }
   ],
   "source": [
    "from bs4 import BeautifulSoup as bs\n",
    "import requests\n",
    "import selenium\n",
    "from splinter import Browser\n",
    "import tweepy\n",
    "import pandas as pd\n",
    "!which chromedriver"
   ]
  },
  {
   "cell_type": "code",
   "execution_count": 5,
   "metadata": {
    "collapsed": false
   },
   "outputs": [],
   "source": [
    "key='CKXRMmr80OJe75cRaFdm5B7ZV'\n",
    "secret_key = 'WqnUVGsGAl9PAbcI0bui8zXVtG0IpTTyKsWw2IpBqhq1JiIBKs'\n",
    "\n",
    "executable_path = {'executable_path':'/usr/local/bin/chromedriver'}\n",
    "browser = Browser('chrome', **executable_path, headless=False)\n",
    "link = 'https://mars.nasa.gov/news/'\n",
    "browser.visit(link)\n",
    "html = browser.html"
   ]
  },
  {
   "cell_type": "code",
   "execution_count": 6,
   "metadata": {
    "collapsed": false
   },
   "outputs": [],
   "source": [
    "mars = {}\n",
    "\n",
    "soup = bs(html,'html.parser')\n",
    "mars['title'] = soup.find(\"div\", class_=\"content_title\").find('a').text\n",
    "mars['paragraph'] = soup.find('div', class_=\"article_teaser_body\").text"
   ]
  },
  {
   "cell_type": "code",
   "execution_count": 4,
   "metadata": {
    "collapsed": false
   },
   "outputs": [],
   "source": [
    "image_url = 'https://www.jpl.nasa.gov/spaceimages/images/mediumsize/PIA18846_ip.jpg'\n",
    "browser.visit(image_url)\n",
    "html2 = browser.html\n",
    "soup2 = bs(html2, 'html.parser')\n",
    "img = soup2.find('img')\n",
    "mars['featured_image'] = img['src']"
   ]
  },
  {
   "cell_type": "code",
   "execution_count": 5,
   "metadata": {
    "collapsed": false
   },
   "outputs": [],
   "source": [
    "auth = tweepy.OAuthHandler(key, secret_key)\n",
    "api = tweepy.API(auth, parser=tweepy.parsers.JSONParser())\n",
    "target_user = \"marswxreport\"\n",
    "full_tweet = api.user_timeline(target_user , count = 1)\n",
    "mars_weather=full_tweet[0]['text']\n",
    "mars['weather'] = mars_weather"
   ]
  },
  {
   "cell_type": "code",
   "execution_count": 6,
   "metadata": {
    "collapsed": false
   },
   "outputs": [
    {
     "data": {
      "text/plain": [
       "{'Mars Facts': '<table border=\"1\" class=\"dataframe\">\\n  <thead>\\n    <tr style=\"text-align: right;\">\\n      <th></th>\\n      <th>Data</th>\\n    </tr>\\n    <tr>\\n      <th>Mars</th>\\n      <th></th>\\n    </tr>\\n  </thead>\\n  <tbody>\\n    <tr>\\n      <th>Equatorial Diameter:</th>\\n      <td>6,792 km</td>\\n    </tr>\\n    <tr>\\n      <th>Polar Diameter:</th>\\n      <td>6,752 km</td>\\n    </tr>\\n    <tr>\\n      <th>Mass:</th>\\n      <td>6.42 x 10^23 kg (10.7% Earth)</td>\\n    </tr>\\n    <tr>\\n      <th>Moons:</th>\\n      <td>2 (Phobos &amp; Deimos)</td>\\n    </tr>\\n    <tr>\\n      <th>Orbit Distance:</th>\\n      <td>227,943,824 km (1.52 AU)</td>\\n    </tr>\\n    <tr>\\n      <th>Orbit Period:</th>\\n      <td>687 days (1.9 years)</td>\\n    </tr>\\n    <tr>\\n      <th>Surface Temperature:</th>\\n      <td>-153 to 20 °C</td>\\n    </tr>\\n    <tr>\\n      <th>First Record:</th>\\n      <td>2nd millennium BC</td>\\n    </tr>\\n    <tr>\\n      <th>Recorded By:</th>\\n      <td>Egyptian astronomers</td>\\n    </tr>\\n  </tbody>\\n</table>',\n",
       " 'featured_image': 'https://www.jpl.nasa.gov/spaceimages/images/mediumsize/PIA18846_ip.jpg',\n",
       " 'paragraph': 'If the InSight landing zone were ice cream, it would be vanilla.',\n",
       " 'title': 'The Mars InSight Landing Site Is Just Plain Perfect',\n",
       " 'weather': 'Sol 2219 (2018-11-03), high -7C/19F, low -71C/-95F, pressure at 8.68 hPa, daylight 06:15-18:33'}"
      ]
     },
     "execution_count": 6,
     "metadata": {},
     "output_type": "execute_result"
    }
   ],
   "source": [
    "url3 = 'https://space-facts.com/mars/'\n",
    "\n",
    "mars_df = pd.read_html(url3)\n",
    "mars_df = pd.DataFrame(mars_df[0])\n",
    "mars_df.columns = ['Mars','Data']\n",
    "mars_df = mars_df.set_index('Mars')\n",
    "mars_table = mars_df.to_html()\n",
    "mars['Mars Facts'] = mars_table\n",
    "mars"
   ]
  },
  {
   "cell_type": "raw",
   "metadata": {},
   "source": []
  },
  {
   "cell_type": "code",
   "execution_count": 19,
   "metadata": {
    "collapsed": false
   },
   "outputs": [
    {
     "name": "stdout",
     "output_type": "stream",
     "text": [
      "{'title': 'Cerberus Hemisphere Enhanced', 'img_url': 'https://astrogeology.usgs.gov/cache/images/dfaf3849e74bf973b59eb50dab52b583_cerberus_enhanced.tif_thumb.png'}\n",
      "{'title': 'Schiaparelli Hemisphere Enhanced', 'img_url': 'https://astrogeology.usgs.gov/cache/images/7677c0a006b83871b5a2f66985ab5857_schiaparelli_enhanced.tif_thumb.png'}\n",
      "{'title': 'Syrtis Major Hemisphere Enhanced', 'img_url': 'https://astrogeology.usgs.gov/cache/images/aae41197e40d6d4f3ea557f8cfe51d15_syrtis_major_enhanced.tif_thumb.png'}\n",
      "{'title': 'Valles Marineris Hemisphere Enhanced', 'img_url': 'https://astrogeology.usgs.gov/cache/images/04085d99ec3713883a9a57f42be9c725_valles_marineris_enhanced.tif_thumb.png'}\n"
     ]
    }
   ],
   "source": [
    "url4 = \"https://astrogeology.usgs.gov/search/results?q=hemisphere+enhanced&k1=target&v1=Mars\"\n",
    "browser.visit(url4)\n",
    "html4 = browser.html\n",
    "soup3 = bs(html4,'html.parser')\n",
    "img = soup3.find_all('img', class_='thumb')\n",
    "title2 = soup3.find_all('div', class_='description')\n",
    "mars_dict = {}\n",
    "\n",
    "\n",
    "for i in range(0,len(img)):\n",
    "    mars_dict = dict(title = title2[i].find('h3').text, img_url = 'https://astrogeology.usgs.gov'+img[i]['src'])\n",
    "    print(mars_dict)"
   ]
  },
  {
   "cell_type": "code",
   "execution_count": 16,
   "metadata": {
    "collapsed": false
   },
   "outputs": [
    {
     "data": {
      "text/plain": [
       "{'paragraph': \"NASA's Mars Curiosity rover drove about 197 feet over the weekend to a site called Lake Orcadie, pushing its total odometry to over 12 miles.\",\n",
       " 'title': 'Curiosity on the Move Again',\n",
       " 'values': [{'img': '/cache/images/04085d99ec3713883a9a57f42be9c725_valles_marineris_enhanced.tif_thumb.png',\n",
       "   'title': 'Valles Marineris Hemisphere Enhanced'}]}"
      ]
     },
     "execution_count": 16,
     "metadata": {},
     "output_type": "execute_result"
    }
   ],
   "source": [
    "mars"
   ]
  },
  {
   "cell_type": "code",
   "execution_count": null,
   "metadata": {
    "collapsed": true
   },
   "outputs": [],
   "source": []
  }
 ],
 "metadata": {
  "kernelspec": {
   "display_name": "Python 3",
   "language": "python",
   "name": "python3"
  },
  "language_info": {
   "codemirror_mode": {
    "name": "ipython",
    "version": 3
   },
   "file_extension": ".py",
   "mimetype": "text/x-python",
   "name": "python",
   "nbconvert_exporter": "python",
   "pygments_lexer": "ipython3",
   "version": "3.6.0"
  }
 },
 "nbformat": 4,
 "nbformat_minor": 2
}
